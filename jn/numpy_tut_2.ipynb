{
 "cells": [
  {
   "cell_type": "code",
   "execution_count": 2,
   "id": "7d168175",
   "metadata": {},
   "outputs": [
    {
     "name": "stdout",
     "output_type": "stream",
     "text": [
      "[7, 9, 11, 13, 15]\n"
     ]
    }
   ],
   "source": [
    "import numpy as np\n",
    "arr_1=np.array([1,2,3,4,5])\n",
    "arr_2=np.array([6,7,8,9,10])\n",
    "list_sum=arr_1+arr_2\n",
    "print(list(arr_sum))"
   ]
  },
  {
   "cell_type": "code",
   "execution_count": null,
   "id": "3dc9e061",
   "metadata": {},
   "outputs": [],
   "source": []
  }
 ],
 "metadata": {
  "kernelspec": {
   "display_name": "Python 3 (ipykernel)",
   "language": "python",
   "name": "python3"
  },
  "language_info": {
   "codemirror_mode": {
    "name": "ipython",
    "version": 3
   },
   "file_extension": ".py",
   "mimetype": "text/x-python",
   "name": "python",
   "nbconvert_exporter": "python",
   "pygments_lexer": "ipython3",
   "version": "3.10.9"
  }
 },
 "nbformat": 4,
 "nbformat_minor": 5
}
